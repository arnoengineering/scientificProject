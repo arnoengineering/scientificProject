{
 "cells": [
  {
   "cell_type": "code",
   "execution_count": 1,
   "metadata": {},
   "outputs": [],
   "source": [
    "import numpy as np\n",
    "import sympy as sy\n",
    "\n",
    "from sympy import integrate\n",
    "from sympy import SingularityFunction as sf\n",
    "from sympy.physics.vector import *\n",
    "from sympy import init_printing\n",
    "init_printing()\n",
    "# from sympy.printing import latex\n",
    "# import matplotlib.pyplot as plt\n",
    "# from sympy.printing import *\n",
    "# from IPython.display import display, Latex\n",
    "\n",
    "\n",
    "# plt.rcParams.update({\n",
    "#     \"text.usetex\": True,\n",
    "#     \"font.family\": \"sans-serif\",\n",
    "#     \"font.sans-serif\": [\"Helvetica\"]})\n",
    "# \"\"\"add solution and relation equations, add relivant tables from\n",
    "# add logical vars and prints\n",
    "# plot track, plot sigularty, solve for stresses, add database\"\"\"\n",
    "# # car,\n"
   ]
  },
  {
   "cell_type": "code",
   "execution_count": 2,
   "metadata": {
    "pycharm": {
     "name": "#%%\n"
    }
   },
   "outputs": [],
   "source": [
    "g = 9.81\n",
    "kr_val = {}\n",
    "e_r = [205, 7.85]\n",
    "\n",
    "\n",
    "x = sy.Symbol('x', positive=True)"
   ]
  },
  {
   "cell_type": "code",
   "execution_count": 3,
   "metadata": {
    "pycharm": {
     "name": "#%%\n"
    }
   },
   "outputs": [],
   "source": [
    "def print_l(st):\n",
    "     # a = latex(st)\n",
    "     print(st)\n",
    "#     ax = plt.subplot(111)# left,bottom,width,height\n",
    "#     ax.set_xticks([])\n",
    "#     # plt.ylabel()\n",
    "#     ax.axis('off')\n",
    "#     te = f'${a}$'\n",
    "#     plt.text(0.4, 0.4, te, size=50, color=\"g\")\n",
    "#     plt.show()\n",
    "\n",
    "\n",
    "def it(f):\n",
    "    return integrate(f, x)\n",
    "\n",
    "\n",
    "def gen_st(va, cnt):\n",
    "    st = \"\"\n",
    "    for ii in range(cnt):\n",
    "        st += va + str(ii) + \" \"\n",
    "    return sy.symbols(st)"
   ]
  },
  {
   "cell_type": "code",
   "execution_count": 4,
   "metadata": {
    "pycharm": {
     "name": "#%%\n"
    }
   },
   "outputs": [],
   "source": [
    "def moment(m, a):\n",
    "    return m * sf(x, a, -2)\n",
    "\n",
    "\n",
    "def point_load(f, a):\n",
    "    return f * sf(x, a, -1)\n",
    "\n",
    "\n",
    "def dis_load(f, a, b):\n",
    "    ave_f = f / (a - b)\n",
    "    return ave_f * sf(x, a, 1) - ave_f * sf(x, b, 1) - f * sf(x, b, 0)\n",
    "\n",
    "\n",
    "def con_load(f, a, b):\n",
    "    return f * sf(x, a, 0) - f * sf(x, b, 0)"
   ]
  },
  {
   "cell_type": "code",
   "execution_count": 5,
   "metadata": {
    "pycharm": {
     "name": "#%%\n"
    }
   },
   "outputs": [],
   "source": [
    "car_ref = ReferenceFrame('car')\n",
    "gear_ref = ReferenceFrame('gear')"
   ]
  },
  {
   "cell_type": "code",
   "execution_count": 6,
   "metadata": {
    "pycharm": {
     "name": "#%%\n"
    }
   },
   "outputs": [],
   "source": [
    "class car:\n",
    "    def __init__(self):\n",
    "        self.m = 200\n"
   ]
  },
  {
   "cell_type": "code",
   "execution_count": 7,
   "metadata": {
    "pycharm": {
     "name": "#%%\n"
    }
   },
   "outputs": [],
   "source": [
    "class gear:\n",
    "    def __init__(self, g_ind, m=None, loc=None, d=None, ia=None):\n",
    "        self.m = m if m else sy.symbols(f'G{g_ind}m')\n",
    "        self.loc = loc if loc else sy.symbols(f'G{g_ind}loc')\n",
    "        self.d = d if d else sy.symbols(f'G{g_ind}g_d')\n",
    "        self.r = d / 2\n",
    "        self.I = ia if ia else m * self.r ** 2  # todo add fornce\n",
    "        # self.\n",
    "        self.N, self.fx = sy.symbols(f'G{g_ind}N G{g_ind}fx')  # todo add name"
   ]
  },
  {
   "cell_type": "code",
   "execution_count": 8,
   "metadata": {
    "pycharm": {
     "name": "#%%\n"
    }
   },
   "outputs": [],
   "source": [
    "class bearing:\n",
    "    def __init__(self, m, loc, kr, a, life, inde=0):\n",
    "        self.life_span = life * 1e6\n",
    "        self.m = m\n",
    "        self.kr = kr\n",
    "        self.a = a\n",
    "        self.loc = loc * gear_ref.y\n",
    "        self.loadx, self.loadz, self.d = sy.symbols(f'B{inde}p_x B{inde}p_z B{inde}d')\n",
    "        self.fric = 0.2  # todo change ass\n",
    "\n",
    "        self.load = self.loadx * gear_ref.x + self.loadz * gear_ref.z\n",
    "        self.fric_f = self.load * self.fric * self.d\n",
    "\n",
    "    def find_c(self):\n",
    "        kr = kr_val[self.kr]  # find in table\n",
    "        c = self.load * (self.life_span / kr) ** (1 / self.a)"
   ]
  },
  {
   "cell_type": "code",
   "execution_count": 9,
   "metadata": {
    "pycharm": {
     "name": "#%%\n"
    }
   },
   "outputs": [],
   "source": [
    "class beam:\n",
    "    def __init__(self, gear_l, bear, e_ro, nor=1):\n",
    "        self.E = e_ro[0]\n",
    "        self.ro = e_ro[1]\n",
    "\n",
    "        ind = 1 if nor == 1 else 2\n",
    "        self.d, self.c1, self.c2, self.om, self.al = sy.symbols(f'b{ind}d b{ind}c1 b{ind}c2 b{ind}om b{ind}alpha')\n",
    "        self.gear_v = []\n",
    "\n",
    "        self.len = 1  # todo change\n",
    "        self.i = sy.symbols('b{ind}I')  # todo calc I\n",
    "        self.bear = bear\n",
    "\n",
    "        self.gear_l = gear_l\n",
    "        self.m = self.ro * self.len * self.d ** 2 / 4 * np.pi\n",
    "        self.w = self.m * g\n",
    "        self.internal_relat_eq = []\n",
    "        self.nor = nor\n",
    "        # r locs or constant\n",
    "        # test if ger giving  torque\n",
    "\n",
    "        self.mom_list = []\n",
    "        self.force_list = []\n",
    "\n",
    "        # self.sum_f_l = [[], [], []]\n",
    "        # self.sum_m_l = [[], [], []]\n",
    "        self.sum_f = [0, 0, 0]\n",
    "        self.sum_m = [0, 0, 0]\n",
    "        self.cond = [[0, 0, 0],  # find extra vals\n",
    "                     [0, self.i * self.al, 0]]\n",
    "\n",
    "    def run_f(self, ex_f, m_ex):\n",
    "        for n, ge in enumerate(self.gear_l):\n",
    "            self.gear_v.extend([ge.N, ge.fx])\n",
    "            fl = ge.r * gear_ref.z + ge.loc * gear_ref.y\n",
    "            norm = -self.nor * gear_ref.z * ge.N\n",
    "            fx = self.nor * gear_ref.x * ge.fx\n",
    "            fg = fx + norm\n",
    "            self.append_l(fl, fg)\n",
    "\n",
    "        for n, f in ex_f:\n",
    "            # n is len\n",
    "            self.append_l(n, f)\n",
    "\n",
    "        for n, m in m_ex:\n",
    "            self.mom_list.append([n * gear_ref.y, m * gear_ref.y])\n",
    "\n",
    "        for b in self.bear:\n",
    "            # self.gear_v.append(b.load)\n",
    "            self.internal_relat_eq.append(self.d-b.d)\n",
    "            self.append_l(b.loc, b.load)\n",
    "            self.mom_list.append([b.loc, b.fric_f])\n",
    "\n",
    "        self.sum_f = np.sum([n[1].to_matrix(gear_ref) for n in self.force_list])\n",
    "        self.sum_m = np.sum([n[1].to_matrix(gear_ref) for n in self.mom_list])\n",
    "        print('f')\n",
    "        print_l(self.sum_f)\n",
    "        print('mom')\n",
    "        print_l(self.sum_m)\n",
    "\n",
    "    def append_l(self, l1, l2):\n",
    "        fli = [l1, l2]\n",
    "        self.force_list.append(fli)\n",
    "        self.mom_list.append([fli[0], cross(*fli)])\n",
    "\n",
    "    def gen_sing(self, ax):  # todo swap for ax, l along other\n",
    "        q = 0\n",
    "        q += dis_load(self.w, 0, self.len)\n",
    "        for n in self.force_list:\n",
    "            loc = n[0].to_matrix(gear_ref)[1]  # y\n",
    "            f = n[1].to_matrix(gear_ref)[ax]\n",
    "            q += point_load(f, loc)\n",
    "        for m in self.mom_list:\n",
    "            loc = m[0].to_matrix(gear_ref)[1]  # y\n",
    "            f = m[1].to_matrix(gear_ref)[(ax + 2) % 4]\n",
    "            q += moment(f, loc)\n",
    "\n",
    "        v = it(q)\n",
    "        M = it(v)\n",
    "        # th = it(M / (self.E * self.i)) + self.c1\n",
    "        # deflec = it(th) + self.c2  # todo add bound for deflec = 0, plot eqs\n",
    "        print_l(q)\n",
    "        print_l(M)\n",
    "\n",
    "    def min_d(self):\n",
    "        # guess d =\n",
    "        d_0 = 0\n",
    "        # while d_0 <0:\n",
    "        #     # do x\n",
    "        # add to eq"
   ]
  },
  {
   "cell_type": "code",
   "execution_count": 10,
   "metadata": {
    "pycharm": {
     "name": "#%%\n"
    }
   },
   "outputs": [],
   "source": [
    "d_mat = np.array([10, 20, 30, 40, 40, 30, 20, 10])\n",
    "\n",
    "gears = np.array([gear(n, m=0.1, loc=0.1 * (n % 4), d=d) for n, d in enumerate(d_mat)]).reshape((2, 4))\n",
    "bearings = np.array([bearing(0.5, n, 0.1, 3, 3) for n in [0, 1, 0, 1]]).reshape((2, 2))"
   ]
  },
  {
   "cell_type": "code",
   "execution_count": 11,
   "metadata": {
    "pycharm": {
     "name": "#%%\n"
    }
   },
   "outputs": [],
   "source": [
    "b1 = beam(gears[0], bearings[0], e_r)\n",
    "b2 = beam(gears[1], bearings[1], e_r, -1)\n",
    "t_in = [[0, 10]]\n",
    "t_out = [[1, 5]]"
   ]
  },
  {
   "cell_type": "code",
   "execution_count": 12,
   "metadata": {
    "pycharm": {
     "name": "#%%\n"
    }
   },
   "outputs": [
    {
     "name": "stdout",
     "output_type": "stream",
     "text": [
      "f\n",
      "2*B0p_x + 2*B0p_z - G0N + G0fx - G1N + G1fx - G2N + G2fx - G3N + G3fx\n",
      "mom\n",
      "0.4*B0d*B0p_x + 0.4*B0d*B0p_z - B0p_x + B0p_z - G0N*G0loc - G0fx*G0loc + 5.0*G0fx - 0.1*G1N + 9.9*G1fx - 0.2*G2N + 14.8*G2fx - 0.3*G3N + 19.7*G3fx + 10\n",
      "f\n",
      "2*B0p_x + 2*B0p_z + G4N - G4fx + G5N - G5fx + G6N - G6fx + G7N - G7fx\n",
      "mom\n",
      "0.4*B0d*B0p_x + 0.4*B0d*B0p_z - B0p_x + B0p_z + G4N*G4loc + G4fx*G4loc - 20.0*G4fx + 0.1*G5N - 14.9*G5fx + 0.2*G6N - 9.8*G6fx + 0.3*G7N - 4.7*G7fx + 5\n",
      "0.2*B0d*B0p_x*SingularityFunction(x, 1, -2) + B0p_z*SingularityFunction(x, 1, -2) + B0p_z*SingularityFunction(x, 1, -1) - G0N*G0loc*SingularityFunction(x, G0loc, -2) - G0N*SingularityFunction(x, G0loc, -1) - 0.1*G1N*SingularityFunction(x, 0.1, -2) - G1N*SingularityFunction(x, 0.1, -1) - 0.2*G2N*SingularityFunction(x, 0.2, -2) - G2N*SingularityFunction(x, 0.2, -1) - 0.3*G3N*SingularityFunction(x, 0.3, -2) - G3N*SingularityFunction(x, 0.3, -1) - 60.4823344659924*b1d**2*x - 60.4823344659924*b1d**2*SingularityFunction(x, 1, 0) + 60.4823344659924*b1d**2*SingularityFunction(x, 1, 1)\n",
      "0.2*B0d*B0p_x*SingularityFunction(x, 1, 0) + B0p_z*SingularityFunction(x, 1, 0) + B0p_z*SingularityFunction(x, 1, 1) - G0N*G0loc*SingularityFunction(x, G0loc, 0) - G0N*SingularityFunction(x, G0loc, 1) - 0.1*G1N*SingularityFunction(x, 0.1, 0) - G1N*SingularityFunction(x, 0.1, 1) - 0.2*G2N*SingularityFunction(x, 0.2, 0) - G2N*SingularityFunction(x, 0.2, 1) - 0.3*G3N*SingularityFunction(x, 0.3, 0) - G3N*SingularityFunction(x, 0.3, 1) - 10.0803890776654*b1d**2*x**3 - 30.2411672329962*b1d**2*SingularityFunction(x, 1, 2) + 10.0803890776654*b1d**2*SingularityFunction(x, 1, 3)\n"
     ]
    }
   ],
   "source": [
    "b1.run_f([], t_in)\n",
    "b2.run_f([], t_out)\n",
    "b1.gen_sing(2)"
   ]
  },
  {
   "cell_type": "code",
   "execution_count": 13,
   "metadata": {
    "pycharm": {
     "name": "#%%\n"
    }
   },
   "outputs": [
    {
     "name": "stdout",
     "output_type": "stream",
     "text": [
      "[b1om + b2om, b1alpha - b2alpha, [G0N - G4N], [G0fx - G4fx], [G1N - G5N], [G1fx - G5fx], [G2N - G6N], [G2fx - G6fx], [G3N - G7N], [G3fx - G7fx]]\n"
     ]
    }
   ],
   "source": [
    "# add wheel\n",
    "# add engine t in and t out\n",
    "ni = 1  # temp g rat\n",
    "rel_eq = [b2.om + b1.om * ni, b1.al - +b2.al * ni]\n",
    "for i, j in zip(b1.gear_v, b2.gear_v):\n",
    "    rel_eq.append([i - j])  # m=m2, x=x2\n",
    "print(rel_eq)"
   ]
  }
 ],
 "metadata": {
  "kernelspec": {
   "display_name": "PyCharm (scientificProject)",
   "language": "python",
   "name": "pycharm-483b3d29"
  },
  "language_info": {
   "codemirror_mode": {
    "name": "ipython",
    "version": 3
   },
   "file_extension": ".py",
   "mimetype": "text/x-python",
   "name": "python",
   "nbconvert_exporter": "python",
   "pygments_lexer": "ipython3",
   "version": "3.9.7"
  }
 },
 "nbformat": 4,
 "nbformat_minor": 1
}