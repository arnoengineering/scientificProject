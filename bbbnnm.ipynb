{
 "cells": [
  {
   "cell_type": "markdown",
   "source": [
    "hist_type\n",
    "\n",
    "<img alt=\"gg\" src=\"q1.png\"/>"
   ],
   "metadata": {
    "collapsed": false
   }
  },
  {
   "cell_type": "code",
   "execution_count": null,
   "outputs": [],
   "source": [
    "import numpy as np\n",
    "import sympy as sy\n",
    "# import pandas as pd\n",
    "# from scipy.optimize import minimize"
   ],
   "metadata": {
    "collapsed": false,
    "pycharm": {
     "name": "#%%\n"
    }
   }
  },
  {
   "cell_type": "code",
   "execution_count": null,
   "outputs": [],
   "source": [
    "def i_x(x,th):\n",
    "   return x*(sy.cos(th) +1j*sy.sin(th))\n",
    "\n",
    "def subs_all (equat, di):\n",
    "   return [e.subs(di) for e in equat]\n",
    "\n",
    "def solve_ls(v_ls, sol):\n",
    "   return {x1:y1 for x1,y1 in zip(v_ls, sol.args[0].args)}"
   ],
   "metadata": {
    "collapsed": false,
    "pycharm": {
     "name": "#%%\n"
    }
   }
  },
  {
   "cell_type": "code",
   "execution_count": null,
   "outputs": [],
   "source": [
    "R1 = 8\n",
    "r2=4*np.sqrt(2)\n",
    "t = sy.symbols('t t3')\n",
    "\n",
    "t3 = sy.Function('t3')\n",
    "t2 = sy.Function('t2')\n",
    "r3 = sy.Function('r3')\n",
    "\n",
    "R3 = i_x(r3(t),t3(t))\n",
    "R2 = i_x(r2,t2(t))\n",
    "w2 = t2.diff(t)\n",
    "w3 = t3.diff(t)\n",
    "r3d = r3.diff(t)\n"
   ],
   "metadata": {
    "collapsed": false,
    "pycharm": {
     "name": "#%%\n"
    }
   }
  }
 ],
 "metadata": {
  "kernelspec": {
   "display_name": "Python 3",
   "language": "python",
   "name": "python3"
  },
  "language_info": {
   "codemirror_mode": {
    "name": "ipython",
    "version": 2
   },
   "file_extension": ".py",
   "mimetype": "text/x-python",
   "name": "python",
   "nbconvert_exporter": "python",
   "pygments_lexer": "ipython2",
   "version": "2.7.6"
  },
  "pycharm": {
   "stem_cell": {
    "cell_type": "raw",
    "source": [
     "\n"
    ],
    "metadata": {
     "collapsed": false
    }
   }
  }
 },
 "nbformat": 4,
 "nbformat_minor": 0
}