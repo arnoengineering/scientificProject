{
 "cells": [
  {
   "cell_type": "markdown",
   "metadata": {
    "collapsed": true,
    "pycharm": {
     "name": "#%% md\n"
    }
   },
   "source": [
    "hist_type\n",
    "\n",
    "<img alt=\"gg\" src=\"q1.png\"/>"
   ]
  },
  {
   "cell_type": "code",
   "source": [
    "import numpy as np\n",
    "import sympy as sy\n",
    "# import pandas as pd\n",
    "# from scipy.optimize import minimize"
   ],
   "metadata": {
    "collapsed": false,
    "pycharm": {
     "name": "#%%\n"
    }
   },
   "execution_count": 1,
   "outputs": []
  },
  {
   "cell_type": "code",
   "execution_count": 2,
   "outputs": [],
   "source": [
    "def i_x(x,th):\n",
    "   return x*(sy.cos(th) +1j*sy.sin(th))\n",
    "\n",
    "def subs_all (equat, di):\n",
    "   return [e.subs(di) for e in equat]\n",
    "\n",
    "def solve_ls(v_ls, sol):\n",
    "   return {x1:y1 for x1,y1 in zip(v_ls, sol.args[0].args)}"
   ],
   "metadata": {
    "collapsed": false,
    "pycharm": {
     "name": "#%%\n"
    }
   }
  },
  {
   "cell_type": "code",
   "execution_count": 18,
   "outputs": [],
   "source": [
    "# R1 = 8\n",
    "# r2=4*np.sqrt(2)\n",
    "R1, R2, R3, w1, w2, w3, r1, r2, r3, t1, t2, t3, a1= sy.symbols('R1 R2 R3 w1 w2 w3 r1 r2 r3 t1 t2 t3 a1')"
   ],
   "metadata": {
    "collapsed": false,
    "pycharm": {
     "name": "#%%\n"
    }
   }
  },
  {
   "cell_type": "code",
   "execution_count": 4,
   "outputs": [],
   "source": [
    "# eq1_cons = R1 + R2 - R3"
   ],
   "metadata": {
    "collapsed": false,
    "pycharm": {
     "name": "#%%\n"
    }
   }
  },
  {
   "cell_type": "code",
   "execution_count": 11,
   "outputs": [],
   "source": [
    "eq1 = [-0.42*r3+t3-30, -0.584*r3-2.86*t3-159]\n",
    "# i_x(r3,t3)-R3\n",
    "sym1 = [r3,t3]"
   ],
   "metadata": {
    "collapsed": false,
    "pycharm": {
     "name": "#%%\n"
    }
   }
  },
  {
   "cell_type": "code",
   "execution_count": 12,
   "outputs": [
    {
     "data": {
      "text/plain": "{(-137.127492717903, -27.5935469415192)}",
      "text/latex": "$\\displaystyle \\left\\{\\left( -137.127492717903, \\  -27.5935469415192\\right)\\right\\}$"
     },
     "execution_count": 12,
     "metadata": {},
     "output_type": "execute_result"
    }
   ],
   "source": [
    "sy.linsolve(eq1, sym1)"
   ],
   "metadata": {
    "collapsed": false,
    "pycharm": {
     "name": "#%%\n"
    }
   }
  },
  {
   "cell_type": "code",
   "execution_count": 13,
   "outputs": [],
   "source": [
    "eq2 = [-0.246*r3-5*t3+200*np.pi/30, 0.969*r3-1.27*t3-346*np.pi/30]\n",
    "# i_x(r3,t3)-R3\n",
    "sym2 = [r3,t3]"
   ],
   "metadata": {
    "collapsed": false,
    "pycharm": {
     "name": "#%%\n"
    }
   }
  },
  {
   "cell_type": "code",
   "execution_count": 14,
   "outputs": [
    {
     "data": {
      "text/plain": "{(40.2844821940825, 2.20679368083753)}",
      "text/latex": "$\\displaystyle \\left\\{\\left( 40.2844821940825, \\  2.20679368083753\\right)\\right\\}$"
     },
     "execution_count": 14,
     "metadata": {},
     "output_type": "execute_result"
    }
   ],
   "source": [
    "sy.linsolve(eq2, sym2)"
   ],
   "metadata": {
    "collapsed": false,
    "pycharm": {
     "name": "#%%\n"
    }
   }
  },
  {
   "cell_type": "code",
   "execution_count": null,
   "outputs": [],
   "source": [],
   "metadata": {
    "collapsed": false,
    "pycharm": {
     "name": "#%%\n"
    }
   }
  },
  {
   "cell_type": "code",
   "execution_count": 16,
   "outputs": [],
   "source": [
    "eq3 = [0.707*a1 + 1.414*r2*14.66-14.66**2*3.535-50*3.535-R1,0.707*a1 - 1.414*r2*14.66-14.66**2*3.535+50*3.535,\n",
    "       0.707*r2-3.535*14.66]\n",
    "# i_x(r3,t3)-R3\n",
    "sym3 = [r2,a1,R1]"
   ],
   "metadata": {
    "collapsed": false,
    "pycharm": {
     "name": "#%%\n"
    }
   }
  },
  {
   "cell_type": "code",
   "execution_count": 17,
   "outputs": [
    {
     "data": {
      "text/plain": "{(73.3, 2973.734, 2685.406584)}",
      "text/latex": "$\\displaystyle \\left\\{\\left( 73.3, \\  2973.734, \\  2685.406584\\right)\\right\\}$"
     },
     "execution_count": 17,
     "metadata": {},
     "output_type": "execute_result"
    }
   ],
   "source": [
    "sy.linsolve(eq3, sym3)"
   ],
   "metadata": {
    "collapsed": false,
    "pycharm": {
     "name": "#%%\n"
    }
   }
  },
  {
   "cell_type": "code",
   "execution_count": null,
   "outputs": [],
   "source": [
    "eq4 = [-0.42*r3-t3-30, -584+2.86*t3-159]\n",
    "# i_x(r3,t3)-R3\n",
    "sym4 = [r3,t3]"
   ],
   "metadata": {
    "collapsed": false,
    "pycharm": {
     "name": "#%%\n"
    }
   }
  },
  {
   "cell_type": "code",
   "execution_count": null,
   "outputs": [],
   "source": [
    "sy.linsolve(eq4, sym4)"
   ],
   "metadata": {
    "collapsed": false,
    "pycharm": {
     "name": "#%%\n"
    }
   }
  },
  {
   "cell_type": "code",
   "execution_count": 19,
   "outputs": [],
   "source": [
    "eq5 = [0.4337*r3+0.1799*t3+0.35, -10.4*r3+t3-6]\n",
    "# i_x(r3,t3)-R3\n",
    "sym5 = [r3,t3]"
   ],
   "metadata": {
    "collapsed": false,
    "pycharm": {
     "name": "#%%\n"
    }
   }
  },
  {
   "cell_type": "code",
   "execution_count": 20,
   "outputs": [
    {
     "data": {
      "text/plain": "{(-0.620221637898866, -0.450305034148204)}",
      "text/latex": "$\\displaystyle \\left\\{\\left( -0.620221637898866, \\  -0.450305034148204\\right)\\right\\}$"
     },
     "execution_count": 20,
     "metadata": {},
     "output_type": "execute_result"
    }
   ],
   "source": [
    "sy.linsolve(eq5, sym5)"
   ],
   "metadata": {
    "collapsed": false,
    "pycharm": {
     "name": "#%%\n"
    }
   }
  }
 ],
 "metadata": {
  "kernelspec": {
   "display_name": "Python 3",
   "language": "python",
   "name": "python3"
  },
  "language_info": {
   "codemirror_mode": {
    "name": "ipython",
    "version": 2
   },
   "file_extension": ".py",
   "mimetype": "text/x-python",
   "name": "python",
   "nbconvert_exporter": "python",
   "pygments_lexer": "ipython2",
   "version": "2.7.6"
  }
 },
 "nbformat": 4,
 "nbformat_minor": 0
}