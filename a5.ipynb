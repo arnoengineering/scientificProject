{
 "cells": [
  {
   "cell_type": "markdown",
   "metadata": {
    "collapsed": true,
    "pycharm": {
     "name": "#%% md\n"
    }
   },
   "source": [
    "hist_type\n",
    "\n",
    "<img alt=\"gg\" src=\"q1.png\"/>"
   ]
  },
  {
   "cell_type": "code",
   "source": [
    "import numpy as np\n",
    "import sympy as sy\n",
    "# import pandas as pd\n",
    "# from scipy.optimize import minimize"
   ],
   "metadata": {
    "collapsed": false,
    "pycharm": {
     "name": "#%%\n"
    }
   },
   "execution_count": 14,
   "outputs": []
  },
  {
   "cell_type": "code",
   "execution_count": 15,
   "outputs": [],
   "source": [
    "def i_x(x,th):\n",
    "   return x*(sy.cos(th) +1j*sy.sin(th))\n",
    "\n",
    "def subs_all (equat, di):\n",
    "   return [e.subs(di) for e in equat]\n",
    "\n",
    "def solve_ls(v_ls, sol):\n",
    "   return {x1:y1 for x1,y1 in zip(v_ls, sol.args[0].args)}"
   ],
   "metadata": {
    "collapsed": false,
    "pycharm": {
     "name": "#%%\n"
    }
   }
  },
  {
   "cell_type": "code",
   "execution_count": 16,
   "outputs": [],
   "source": [
    "R1 = 8\n",
    "r2=4*np.sqrt(2)\n",
    "t = sy.symbols('t')\n",
    "\n",
    "t3 = sy.Function('t3')\n",
    "t2 = sy.Function('t2')\n",
    "r3 = sy.Function('r3')\n",
    "\n",
    "R3 = i_x(r3(t),t3(t))\n",
    "R2 = i_x(r2,t2(t))\n",
    "w2 = t2.diff(t)\n",
    "w3 = t3.diff(t)\n",
    "r3d = r3.diff(t)"
   ],
   "metadata": {
    "collapsed": false,
    "pycharm": {
     "name": "#%%\n"
    }
   }
  },
  {
   "cell_type": "code",
   "execution_count": 17,
   "outputs": [],
   "source": [
    "eq = R1 + R2 - R3"
   ],
   "metadata": {
    "collapsed": false,
    "pycharm": {
     "name": "#%%\n"
    }
   }
  },
  {
   "cell_type": "code",
   "execution_count": 18,
   "outputs": [
    {
     "ename": "TypeError",
     "evalue": "'Add' object is not callable",
     "output_type": "error",
     "traceback": [
      "\u001B[1;31m---------------------------------------------------------------------------\u001B[0m",
      "\u001B[1;31mTypeError\u001B[0m                                 Traceback (most recent call last)",
      "\u001B[1;32m~\\AppData\\Local\\Temp/ipykernel_44232/627148119.py\u001B[0m in \u001B[0;36m<module>\u001B[1;34m\u001B[0m\n\u001B[1;32m----> 1\u001B[1;33m \u001B[0meq1\u001B[0m \u001B[1;33m=\u001B[0m \u001B[1;33m[\u001B[0m\u001B[0meq\u001B[0m\u001B[1;33m(\u001B[0m\u001B[1;36m0\u001B[0m\u001B[1;33m)\u001B[0m\u001B[1;33m,\u001B[0m\u001B[0mt2\u001B[0m\u001B[1;33m(\u001B[0m\u001B[1;36m0\u001B[0m\u001B[1;33m)\u001B[0m\u001B[1;33m-\u001B[0m\u001B[0mnp\u001B[0m\u001B[1;33m.\u001B[0m\u001B[0mdeg2rad\u001B[0m\u001B[1;33m(\u001B[0m\u001B[1;36m160\u001B[0m\u001B[1;33m)\u001B[0m\u001B[1;33m]\u001B[0m\u001B[1;33m\u001B[0m\u001B[1;33m\u001B[0m\u001B[0m\n\u001B[0m\u001B[0;32m      2\u001B[0m \u001B[1;31m# i_x(r3,t3)-R3\u001B[0m\u001B[1;33m\u001B[0m\u001B[1;33m\u001B[0m\u001B[0m\n\u001B[0;32m      3\u001B[0m \u001B[0meq1\u001B[0m\u001B[1;33m\u001B[0m\u001B[1;33m\u001B[0m\u001B[0m\n\u001B[0;32m      4\u001B[0m \u001B[1;33m\u001B[0m\u001B[0m\n",
      "\u001B[1;31mTypeError\u001B[0m: 'Add' object is not callable"
     ]
    }
   ],
   "source": [
    "eq1 = [eq(0),t2(0)-np.deg2rad(160)]\n",
    "# i_x(r3,t3)-R3\n",
    "eq1"
   ],
   "metadata": {
    "collapsed": false,
    "pycharm": {
     "name": "#%%\n"
    }
   }
  },
  {
   "cell_type": "code",
   "execution_count": 9,
   "outputs": [
    {
     "name": "stdout",
     "output_type": "stream",
     "text": [
      "{t2: 2.79252680319093, R2: -5.3157041951094 + 1.9347581011838*I, R3: 2.6842958048906 + 1.9347581011838*I}\n"
     ]
    }
   ],
   "source": [
    "eq_ls = [t2, R2, R3]\n",
    "es = [r3,t3]\n",
    "ful_ls = eq_ls + es\n",
    "sa = sy.nonlinsolve(eq1, eq_ls)\n",
    "eq_f = solve_ls(eq_ls, sa)\n",
    "print(eq_f)"
   ],
   "metadata": {
    "collapsed": false,
    "pycharm": {
     "name": "#%%\n"
    }
   }
  },
  {
   "cell_type": "code",
   "execution_count": 10,
   "outputs": [
    {
     "data": {
      "text/plain": "{r3: 3.30888695458906,\n t3: 0.624529542694630,\n t2: 2.79252680319093,\n R2: -5.3157041951094 + 1.9347581011838*I,\n R3: 2.6842958048906 + 1.9347581011838*I}"
     },
     "execution_count": 10,
     "metadata": {},
     "output_type": "execute_result"
    }
   ],
   "source": [
    "eq2 = [r3 - sy.Abs(R3), t3 - sy.arg(R3)]\n",
    "sa2 = sy.nonlinsolve(subs_all(eq2, eq_f), es)\n",
    "eq_f2 = solve_ls(es, sa2) | eq_f\n",
    "eq_f2"
   ],
   "metadata": {
    "collapsed": false,
    "pycharm": {
     "name": "#%%\n"
    }
   }
  },
  {
   "cell_type": "code",
   "execution_count": 11,
   "outputs": [],
   "source": [
    "eqs = sy.Derivative(eq, t)"
   ],
   "metadata": {
    "collapsed": false,
    "pycharm": {
     "name": "#%%\n"
    }
   }
  },
  {
   "cell_type": "code",
   "execution_count": 13,
   "outputs": [
    {
     "ename": "ValueError",
     "evalue": "dsolve() and classify_ode() only work with functions of one variable, not R2 - R3 + 8",
     "output_type": "error",
     "traceback": [
      "\u001B[1;31m---------------------------------------------------------------------------\u001B[0m",
      "\u001B[1;31mValueError\u001B[0m                                Traceback (most recent call last)",
      "\u001B[1;32m~\\AppData\\Local\\Temp/ipykernel_44232/1645124427.py\u001B[0m in \u001B[0;36m<module>\u001B[1;34m\u001B[0m\n\u001B[0;32m      1\u001B[0m \u001B[0meqs\u001B[0m\u001B[1;33m.\u001B[0m\u001B[0mreplace\u001B[0m\u001B[1;33m(\u001B[0m\u001B[0mw2\u001B[0m\u001B[1;33m,\u001B[0m\u001B[1;36m30\u001B[0m\u001B[1;33m)\u001B[0m\u001B[1;33m\u001B[0m\u001B[1;33m\u001B[0m\u001B[0m\n\u001B[1;32m----> 2\u001B[1;33m \u001B[0mjj\u001B[0m \u001B[1;33m=\u001B[0m \u001B[0msy\u001B[0m\u001B[1;33m.\u001B[0m\u001B[0mdsolve\u001B[0m\u001B[1;33m(\u001B[0m\u001B[0meqs\u001B[0m\u001B[1;33m,\u001B[0m \u001B[0meq\u001B[0m\u001B[1;33m)\u001B[0m\u001B[1;33m\u001B[0m\u001B[1;33m\u001B[0m\u001B[0m\n\u001B[0m\u001B[0;32m      3\u001B[0m \u001B[0mjj\u001B[0m\u001B[1;33m\u001B[0m\u001B[1;33m\u001B[0m\u001B[0m\n\u001B[0;32m      4\u001B[0m \u001B[1;33m\u001B[0m\u001B[0m\n",
      "\u001B[1;32mD:\\Programs\\anaconda3\\envs\\scientificProject\\lib\\site-packages\\sympy\\solvers\\ode\\ode.py\u001B[0m in \u001B[0;36mdsolve\u001B[1;34m(eq, func, hint, simplify, ics, xi, eta, x0, n, **kwargs)\u001B[0m\n\u001B[0;32m    602\u001B[0m \u001B[1;33m\u001B[0m\u001B[0m\n\u001B[0;32m    603\u001B[0m         \u001B[1;31m# See the docstring of _desolve for more details.\u001B[0m\u001B[1;33m\u001B[0m\u001B[1;33m\u001B[0m\u001B[0m\n\u001B[1;32m--> 604\u001B[1;33m         hints = _desolve(eq, func=func,\n\u001B[0m\u001B[0;32m    605\u001B[0m             \u001B[0mhint\u001B[0m\u001B[1;33m=\u001B[0m\u001B[0mhint\u001B[0m\u001B[1;33m,\u001B[0m \u001B[0msimplify\u001B[0m\u001B[1;33m=\u001B[0m\u001B[1;32mTrue\u001B[0m\u001B[1;33m,\u001B[0m \u001B[0mxi\u001B[0m\u001B[1;33m=\u001B[0m\u001B[0mxi\u001B[0m\u001B[1;33m,\u001B[0m \u001B[0meta\u001B[0m\u001B[1;33m=\u001B[0m\u001B[0meta\u001B[0m\u001B[1;33m,\u001B[0m \u001B[0mtype\u001B[0m\u001B[1;33m=\u001B[0m\u001B[1;34m'ode'\u001B[0m\u001B[1;33m,\u001B[0m \u001B[0mics\u001B[0m\u001B[1;33m=\u001B[0m\u001B[0mics\u001B[0m\u001B[1;33m,\u001B[0m\u001B[1;33m\u001B[0m\u001B[1;33m\u001B[0m\u001B[0m\n\u001B[0;32m    606\u001B[0m             x0=x0, n=n, **kwargs)\n",
      "\u001B[1;32mD:\\Programs\\anaconda3\\envs\\scientificProject\\lib\\site-packages\\sympy\\solvers\\deutils.py\u001B[0m in \u001B[0;36m_desolve\u001B[1;34m(eq, func, hint, ics, simplify, prep, **kwargs)\u001B[0m\n\u001B[0;32m    207\u001B[0m     \u001B[1;31m# recursive calls.\u001B[0m\u001B[1;33m\u001B[0m\u001B[1;33m\u001B[0m\u001B[0m\n\u001B[0;32m    208\u001B[0m     \u001B[1;32mif\u001B[0m \u001B[0mkwargs\u001B[0m\u001B[1;33m.\u001B[0m\u001B[0mget\u001B[0m\u001B[1;33m(\u001B[0m\u001B[1;34m'classify'\u001B[0m\u001B[1;33m,\u001B[0m \u001B[1;32mTrue\u001B[0m\u001B[1;33m)\u001B[0m\u001B[1;33m:\u001B[0m\u001B[1;33m\u001B[0m\u001B[1;33m\u001B[0m\u001B[0m\n\u001B[1;32m--> 209\u001B[1;33m         hints = classifier(eq, func, dict=True, ics=ics, xi=xi, eta=eta,\n\u001B[0m\u001B[0;32m    210\u001B[0m         n=terms, x0=x0, hint=hint, prep=prep)\n\u001B[0;32m    211\u001B[0m \u001B[1;33m\u001B[0m\u001B[0m\n",
      "\u001B[1;32mD:\\Programs\\anaconda3\\envs\\scientificProject\\lib\\site-packages\\sympy\\solvers\\ode\\ode.py\u001B[0m in \u001B[0;36mclassify_ode\u001B[1;34m(eq, func, dict, ics, prep, xi, eta, n, **kwargs)\u001B[0m\n\u001B[0;32m    940\u001B[0m \u001B[1;33m\u001B[0m\u001B[0m\n\u001B[0;32m    941\u001B[0m     \u001B[1;32mif\u001B[0m \u001B[0mfunc\u001B[0m \u001B[1;32mand\u001B[0m \u001B[0mlen\u001B[0m\u001B[1;33m(\u001B[0m\u001B[0mfunc\u001B[0m\u001B[1;33m.\u001B[0m\u001B[0margs\u001B[0m\u001B[1;33m)\u001B[0m \u001B[1;33m!=\u001B[0m \u001B[1;36m1\u001B[0m\u001B[1;33m:\u001B[0m\u001B[1;33m\u001B[0m\u001B[1;33m\u001B[0m\u001B[0m\n\u001B[1;32m--> 942\u001B[1;33m         raise ValueError(\"dsolve() and classify_ode() only \"\n\u001B[0m\u001B[0;32m    943\u001B[0m         \"work with functions of one variable, not %s\" % func)\n\u001B[0;32m    944\u001B[0m \u001B[1;33m\u001B[0m\u001B[0m\n",
      "\u001B[1;31mValueError\u001B[0m: dsolve() and classify_ode() only work with functions of one variable, not R2 - R3 + 8"
     ]
    }
   ],
   "source": [
    "eqs.replace(w2,30)\n",
    "jj = sy.dsolve(eqs, eq)\n",
    "jj"
   ],
   "metadata": {
    "collapsed": false,
    "pycharm": {
     "name": "#%%\n"
    }
   }
  },
  {
   "cell_type": "code",
   "execution_count": null,
   "outputs": [],
   "source": [
    "# todo rep\n",
    "jjj = subs_all(jj.args[0].args, eq_f2)\n",
    "print(jjj)"
   ],
   "metadata": {
    "collapsed": false,
    "pycharm": {
     "name": "#%%\n"
    }
   }
  },
  {
   "cell_type": "code",
   "execution_count": 72,
   "outputs": [
    {
     "data": {
      "text/plain": "{w2: t2,\n w3: R2,\n r3: 3.30888695458906,\n t3: 0.624529542694630,\n t2: 2.79252680319093,\n R2: -5.3157041951094 + 1.9347581011838*I,\n R3: 2.6842958048906 + 1.9347581011838*I}"
     },
     "execution_count": 72,
     "metadata": {},
     "output_type": "execute_result"
    }
   ],
   "source": [
    "ful_sol = solve_ls(fff, jj) | eq_f2\n",
    "ful_sol\n",
    "\n",
    "\n"
   ],
   "metadata": {
    "collapsed": false,
    "pycharm": {
     "name": "#%%\n"
    }
   }
  }
 ],
 "metadata": {
  "kernelspec": {
   "display_name": "Python 3",
   "language": "python",
   "name": "python3"
  },
  "language_info": {
   "codemirror_mode": {
    "name": "ipython",
    "version": 2
   },
   "file_extension": ".py",
   "mimetype": "text/x-python",
   "name": "python",
   "nbconvert_exporter": "python",
   "pygments_lexer": "ipython2",
   "version": "2.7.6"
  }
 },
 "nbformat": 4,
 "nbformat_minor": 0
}