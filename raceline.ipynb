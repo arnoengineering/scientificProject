{
 "cells": [
  {
   "cell_type": "code",
   "execution_count": 1,
   "metadata": {
    "collapsed": true
   },
   "outputs": [],
   "source": [
    "import numpy as np\n",
    "import sympy as sy\n",
    "import pandas as pd\n",
    "from scipy.optimize import minimize"
   ]
  },
  {
   "cell_type": "markdown",
   "metadata": {},
   "source": [
    "# Raceline Calculations\n",
    "find the optimal turn radius and soves sor the ratios needed to acheve this"
   ]
  },
  {
   "cell_type": "code",
   "execution_count": 2,
   "metadata": {
    "pycharm": {
     "name": "#%%\n"
    }
   },
   "outputs": [],
   "source": [
    "# symbols\n",
    "t0, t1, red, s2, vt = sy.symbols(\"t0, t1, red, s2, vt\")"
   ]
  },
  {
   "cell_type": "markdown",
   "metadata": {},
   "source": [
    "## Constant input\n",
    "input all constsants\n",
    "\n",
    "given\n",
    "- input reduction\n",
    "- engine power\n",
    "- engine speed\n",
    "- mass\n",
    "- wheel rad\n",
    "\n",
    "assumsions\n",
    "- mu: average coefficient of friction for rubber and asfault\n",
    "- track width is constant\n",
    "- can always use optimal line\n",
    "- drivetrain mass is negleable for initial data\n",
    "- tire rad is rad wheel + 0.8*130mm\n",
    "- no final reduction now\n",
    "- using a larger turn track\n",
    "- since the track (see bellow) doesn't have a width, we find the track width using scale"
   ]
  },
  {
   "cell_type": "code",
   "execution_count": 3,
   "metadata": {
    "pycharm": {
     "name": "#%%\n"
    }
   },
   "outputs": [],
   "source": [
    "# constants\n",
    "g = 9.81\n",
    "\n",
    "# constraints\n",
    "# given\n",
    "power = 24.4e3\n",
    "init_red = 2.7\n",
    "eng_sp = 6500  # rpm\n",
    "m = 290\n",
    "\n",
    "# calc\n",
    "fin_red = 1\n",
    "mu = 0.7\n",
    "tire_rad = 0.3072\n",
    "track_width = 26.6"
   ]
  },
  {
   "cell_type": "markdown",
   "metadata": {
    "pycharm": {
     "name": "#%% md\n"
    }
   },
   "source": [
    "data from https://virnow.com/wp-content/uploads/2011/11/VIR-planimetric-1.jpg\n",
    "![Virginia Speedway](https://virnow.com/wp-content/uploads/2011/11/VIR-planimetric-1.jpg)\n",
    "taking north corse"
   ]
  },
  {
   "cell_type": "code",
   "execution_count": 4,
   "metadata": {
    "pycharm": {
     "name": "#%%\n"
    }
   },
   "outputs": [],
   "source": [
    "# list fof all turns\n",
    "turn_array = [[215, 1644],\n",
    "              [227, 120],\n",
    "              [296, 270],\n",
    "              [208, 679],\n",
    "              [177, 298],\n",
    "              [280, 907],\n",
    "              [167, 137],\n",
    "              [494, 358],\n",
    "              [158, 100],\n",
    "              [89, 106],\n",
    "              [176, 309],\n",
    "              [118, 1159],\n",
    "              [173, 2889],\n",
    "              [219, 444],\n",
    "              [130, 277],\n",
    "              [338, 2000],\n",
    "              [328, 168],\n",
    "              [284, 552],\n",
    "              [228, 375],\n",
    "              [315, 300],\n",
    "              [251, 300],\n",
    "              [105, 149],\n",
    "              [97, 105],\n",
    "              [90, 105],\n",
    "              [94, 290],\n",
    "              [226, 134],\n",
    "              [162, 201],\n",
    "              [220, 596],\n",
    "              [337, 423],\n",
    "              [175, 165],\n",
    "              [299, 727],\n",
    "              [92, 165],\n",
    "              [200, 950],\n",
    "              [693, 1375]]"
   ]
  },
  {
   "cell_type": "markdown",
   "metadata": {},
   "source": [
    "calculating the race line is done so a driver can make use of the road width of\n",
    "![Derivation](derivation.png)"
   ]
  },
  {
   "cell_type": "code",
   "execution_count": 5,
   "metadata": {
    "pycharm": {
     "name": "#%%\n"
    }
   },
   "outputs": [],
   "source": [
    "def race_line(min_rad, max_rad, arc_ang):\n",
    "    # calculates the raceline (max radius given width of track) for a turn\n",
    "    cos_a = np.cos(np.deg2rad(arc_ang / 2))\n",
    "    return (max_rad - min_rad * cos_a) / (1 - cos_a)\n",
    "\n",
    "\n",
    "def find_r(arc_len, rad_cen):\n",
    "    # if track is given as width and center radius insted of max, min radius\n",
    "\n",
    "    ang = arc_len / rad_cen  # angle given arc\n",
    "    min_rad = rad_cen - track_width\n",
    "    max_rad = rad_cen + track_width\n",
    "    ra = 12 * 0.0254  # ft to m\n",
    "    return [min_rad * ra, max_rad * ra, np.rad2deg(ang)]"
   ]
  },
  {
   "cell_type": "code",
   "execution_count": 6,
   "metadata": {
    "pycharm": {
     "name": "#%%\n"
    }
   },
   "outputs": [],
   "source": [
    "def by_ex(ratio_ls, cnt, defined_ratios=None):\n",
    "    # calculates optimal ratios given number of gears, some preset ratios and optimal ratios for each turn\n",
    "    def optimize(guess):\n",
    "        # function for scipy to optomizes since we want the gear ratios where we have each turn be the closest to a gear\n",
    "        defined_guess = np.sort(np.concatenate((guess, defined_ratios)))  # if some ratios are set\n",
    "        cost = 0\n",
    "        for turn in ratio_ls:\n",
    "            # minds the optimal ratio for each turn, scypi will find min diff\n",
    "            cost += np.min(np.abs(defined_guess - turn))\n",
    "        return cost\n",
    "\n",
    "    if defined_ratios:\n",
    "        cnt -= len(defined_ratios)\n",
    "    else:\n",
    "        defined_ratios = []\n",
    "    ratio_ls.sort()\n",
    "    out_r = np.linspace(ratio_ls[0], ratio_ls[-1], cnt)  # initial guess\n",
    "    result = minimize(optimize, out_r, options={'disp': False})\n",
    "    return result.x  # function can return iterations, only need output"
   ]
  },
  {
   "cell_type": "code",
   "execution_count": 7,
   "metadata": {
    "pycharm": {
     "name": "#%%\n"
    }
   },
   "outputs": [],
   "source": [
    "# turn radius array [min, max, arc_angle] or [arc_len, center rad]\n",
    "if len(turn_array[0]) == 2:  # see if need to convert to min max\n",
    "    turn_array_norm = [find_r(*turn_n) for turn_n in turn_array]\n",
    "else:\n",
    "    turn_array_norm = turn_array\n",
    "\n",
    "rad_array = np.array(turn_array_norm)\n",
    "rad_array = np.hstack((rad_array, np.zeros([rad_array.shape[0], 3])))  # shape correctly"
   ]
  },
  {
   "cell_type": "code",
   "execution_count": 8,
   "metadata": {
    "pycharm": {
     "name": "#%%\n"
    }
   },
   "outputs": [],
   "source": [
    "# full drivetrain redux\n",
    "total_r = red * init_red * fin_red"
   ]
  },
  {
   "cell_type": "markdown",
   "metadata": {
    "pycharm": {
     "name": "#%% md\n"
    }
   },
   "source": [
    "## iterations\n",
    "loops trough each turn and calculates their ratios based on the above functions"
   ]
  },
  {
   "cell_type": "code",
   "execution_count": null,
   "metadata": {
    "pycharm": {
     "name": "#%%\n"
    }
   },
   "outputs": [],
   "source": [
    "# loops through each turn and calculates all values\n",
    "for i in range(rad_array.shape[0]):\n",
    "    rad = race_line(*rad_array[i, :3])  # finds the optimale raceline for each turn\n",
    "    # all eqs in the form x-y = 0,\n",
    "\n",
    "    t_eq = [t0 - power / eng_sp,  # find initial torque\n",
    "            s2 - eng_sp / total_r,  # find output speed (solving for red)\n",
    "            vt - np.sqrt(g * mu * rad),  # vt from turn (acc_n*m = v^2/r, and acc_n*m <= Fric_F)\n",
    "            vt - tire_rad * s2 * np.pi / 30  # vt = out speed * r, convering rpm to rad/s\n",
    "            ]\n",
    "\n",
    "    sol = sy.nonlinsolve(t_eq, [red, s2, t0, vt])  # soving system\n",
    "    rad_array[i, 3:] = [rad, sol.args[0][3], sol.args[0][0]]  # used to get v and gear ratios"
   ]
  },
  {
   "cell_type": "markdown",
   "metadata": {
    "pycharm": {
     "name": "#%% md\n"
    }
   },
   "source": [
    "## turn data\n",
    "the data for each turn is"
   ]
  },
  {
   "cell_type": "code",
   "execution_count": 9,
   "metadata": {
    "pycharm": {
     "name": "#%%\n"
    }
   },
   "outputs": [
    {
     "name": "stdout",
     "output_type": "stream",
     "text": [
      "          min        max         deg          race           v         R\n",
      "0   492.98352  509.19888    7.493061   8080.471900  235.560185  0.328774\n",
      "1    28.46832   44.68368  108.384516     67.547810   21.537196  3.595922\n",
      "2    74.18832   90.40368   62.813151    184.866571   35.629745  2.173635\n",
      "3   198.85152  215.06688   17.551579   1583.943679  104.292575  0.742585\n",
      "4    82.72272   98.93808   34.031386    453.144815   55.783021  1.388345\n",
      "5   268.34592  284.56128   17.687782   1632.230242  105.870322  0.731518\n",
      "6    33.64992   49.86528   69.842301    123.705543   29.145943  2.657182\n",
      "7   101.01072  117.22608   79.061774    171.907326   34.358225  2.254077\n",
      "8    22.37232   38.58768   90.527332     77.125329   23.013466  3.365250\n",
      "9    24.20112   40.41648   48.106834    210.940575   38.059545  2.034866\n",
      "10   86.07552  102.29088   32.634489    488.649299   57.927150  1.336956\n",
      "11  345.15552  361.37088    5.833393  12862.529500  297.198570  0.260587\n",
      "12  872.45952  888.67488    3.431004  37051.071771  504.410259  0.153538\n",
      "13  127.22352  143.43888   28.260756    663.139416   67.481689  1.147661\n",
      "14   76.32192   92.53728   26.889716    667.996840   67.728386  1.143480\n",
      "15  601.49232  617.70768    9.682987   5146.154460  187.985751  0.411978\n",
      "16   43.09872   59.31408  111.863189     79.967086   23.433608  3.304915\n",
      "17  160.14192  176.35728   29.478263    652.923378   66.959875  1.156604\n",
      "18  106.19232  122.40768   34.835834    459.828467   56.192901  1.378218\n",
      "19   83.33232   99.54768   60.160568    203.735012   37.403854  2.070537\n",
      "20   83.33232   99.54768   47.937469    271.374151   43.168580  1.794038\n",
      "21   37.30752   53.52288   40.376220    301.249403   45.482740  1.702757\n",
      "22   23.89632   40.11168   52.930387    178.630800   35.023673  2.211249\n",
      "23   23.89632   40.11168   49.110668    203.191135   37.353896  2.073307\n",
      "24   80.28432   96.49968   18.571735   1317.677419   95.123556  0.814163\n",
      "25   32.73552   48.95088   96.633180     81.141622   23.605074  3.280908\n",
      "26   53.15712   69.37248   46.178688    255.582044   41.893698  1.848633\n",
      "27  173.55312  189.76848   21.149449   1128.319019   88.023671  0.879832\n",
      "28  120.82272  137.03808   45.646992    327.926444   47.453882  1.632028\n",
      "29   42.18432   58.39968   60.768251    160.246302   33.172449  2.334651\n",
      "30  213.48192  229.69728   23.564564    983.097778   82.164058  0.942579\n",
      "31   42.18432   58.39968   31.946738    462.159396   56.335145  1.374738\n",
      "32  281.45232  297.66768   12.062269   3211.028858  148.492879  0.521547\n",
      "33  410.99232  427.20768   28.877073    924.391314   79.673052  0.972049\n"
     ]
    }
   ],
   "source": [
    "# creats dataframe of values for pretty print or saving\n",
    "df = pd.DataFrame(rad_array, columns=[\"min\", \"max\", \"deg\", \"race\", \"v\", \"R\"])\n",
    "print(df)"
   ]
  },
  {
   "cell_type": "markdown",
   "metadata": {
    "pycharm": {
     "name": "#%% md\n"
    }
   },
   "source": [
    "## optimization\n",
    "thus we can culculate the output\n",
    "using scipy optimize"
   ]
  },
  {
   "cell_type": "code",
   "execution_count": 10,
   "metadata": {
    "pycharm": {
     "name": "#%%\n"
    }
   },
   "outputs": [
    {
     "name": "stdout",
     "output_type": "stream",
     "text": [
      "\n",
      "Optimal ratios for track are: [0.41197844 1.14765844 2.07078981 3.36449413]\n",
      "\n"
     ]
    }
   ],
   "source": [
    "# calculates optimal gear ratios based on turns\n",
    "rat = by_ex(list(df['R']), 4)\n",
    "print(f'\\nOptimal ratios for track are: {rat}\\n')\n",
    "\n",
    "\n"
   ]
  }
 ],
 "metadata": {
  "kernelspec": {
   "display_name": "Python 3 (ipykernel)",
   "language": "python",
   "name": "python3"
  },
  "language_info": {
   "codemirror_mode": {
    "name": "ipython",
    "version": 3
   },
   "file_extension": ".py",
   "mimetype": "text/x-python",
   "name": "python",
   "nbconvert_exporter": "python",
   "pygments_lexer": "ipython3",
   "version": "3.9.7"
  }
 },
 "nbformat": 4,
 "nbformat_minor": 1
}